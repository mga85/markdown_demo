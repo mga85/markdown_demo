{
 "cells": [
  {
   "cell_type": "markdown",
   "id": "109b6874-97d5-46dd-bb84-cd7f9573963b",
   "metadata": {},
   "source": [
    "# My Jupyter Notebook on IBM Watson Studio"
   ]
  },
  {
   "cell_type": "markdown",
   "id": "123e801a-6804-458e-9a03-08cb587d1b04",
   "metadata": {},
   "source": [
    "**Mustafa**  \n",
    "Finance\n"
   ]
  },
  {
   "cell_type": "markdown",
   "id": "bba613ff-3a9f-495f-a98d-cbcb46aa1da5",
   "metadata": {},
   "source": [
    "*I am interested in DS to explore new career opportunities*"
   ]
  },
  {
   "cell_type": "markdown",
   "id": "768b4694-04f4-4ad2-bd74-d0ad97c1bc7a",
   "metadata": {},
   "source": [
    "### Code does 1 + 1"
   ]
  },
  {
   "cell_type": "code",
   "execution_count": 1,
   "id": "82107778-720f-481e-8030-9a8f9d00dba0",
   "metadata": {},
   "outputs": [
    {
     "data": {
      "text/plain": [
       "2"
      ]
     },
     "execution_count": 1,
     "metadata": {},
     "output_type": "execute_result"
    }
   ],
   "source": [
    "1 + 1"
   ]
  },
  {
   "cell_type": "markdown",
   "id": "dbbe933c-6659-4076-92e9-fd1276f7b60a",
   "metadata": {},
   "source": [
    "1. Numbered List 1  \n",
    "2. Numbered List 2  \n",
    "3. Numbered List 3 \n",
    "\n",
    "* Bullet List 1\n",
    "* Bullet List 2  \n",
    "* Bullet List 3  \n",
    "\n",
    "[to IBM](https://www.ibm.com)\n"
   ]
  },
  {
   "cell_type": "code",
   "execution_count": null,
   "id": "ed70ff98-c1ad-4370-859b-b0d4c4f244df",
   "metadata": {},
   "outputs": [],
   "source": []
  }
 ],
 "metadata": {
  "kernelspec": {
   "display_name": "Python",
   "language": "python",
   "name": "conda-env-python-py"
  },
  "language_info": {
   "codemirror_mode": {
    "name": "ipython",
    "version": 3
   },
   "file_extension": ".py",
   "mimetype": "text/x-python",
   "name": "python",
   "nbconvert_exporter": "python",
   "pygments_lexer": "ipython3",
   "version": "3.7.12"
  }
 },
 "nbformat": 4,
 "nbformat_minor": 5
}
